{
 "cells": [
  {
   "cell_type": "markdown",
   "id": "419397e1",
   "metadata": {},
   "source": [
    "# Pyhon Brush up "
   ]
  },
  {
   "cell_type": "markdown",
   "id": "a7c08b9b",
   "metadata": {},
   "source": [
    "# Q1: \n",
    "### Write a program to calculate simple interest using the formula:\n",
    "\n",
    "$$\n",
    "Simple Interest = (Principal * Rate * Time) / 100\n",
    "$$"
   ]
  },
  {
   "cell_type": "code",
   "execution_count": 4,
   "id": "0ebc95ef",
   "metadata": {},
   "outputs": [
    {
     "name": "stdout",
     "output_type": "stream",
     "text": [
      "Principal amount is: 100000.0\n",
      "Rate of interest is: 5.0 %\n",
      "Time in years is: 7.0\n",
      "The simple interest is: 35000.0\n"
     ]
    }
   ],
   "source": [
    "p = float(input(\"Enter the principal amount:\"))\n",
    "print(\"Principal amount is:\", p)\n",
    "r = float(input(\"Enter the rate of interest:\"))\n",
    "print(\"Rate of interest is:\", r,\"%\")\n",
    "t = float(input(\"Enter the time in years:\"))\n",
    "print(\"Time in years is:\", t)\n",
    "\n",
    "\n",
    "simple_intrest = (p*r*t)/100\n",
    "print(\"The simple interest is:\", simple_intrest)"
   ]
  }
 ],
 "metadata": {
  "kernelspec": {
   "display_name": "base",
   "language": "python",
   "name": "python3"
  },
  "language_info": {
   "codemirror_mode": {
    "name": "ipython",
    "version": 3
   },
   "file_extension": ".py",
   "mimetype": "text/x-python",
   "name": "python",
   "nbconvert_exporter": "python",
   "pygments_lexer": "ipython3",
   "version": "3.12.7"
  }
 },
 "nbformat": 4,
 "nbformat_minor": 5
}
