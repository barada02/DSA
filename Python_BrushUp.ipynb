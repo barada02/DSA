{
 "cells": [
  {
   "cell_type": "markdown",
   "id": "419397e1",
   "metadata": {},
   "source": [
    "# Pyhon Brush up "
   ]
  },
  {
   "cell_type": "markdown",
   "id": "a7c08b9b",
   "metadata": {},
   "source": [
    "### Q1: Write a program to calculate simple interest using the formula:\n",
    "\n",
    "$$\n",
    "Simple Interest = (Principal * Rate * Time) / 100\n",
    "$$"
   ]
  },
  {
   "cell_type": "code",
   "execution_count": 4,
   "id": "0ebc95ef",
   "metadata": {},
   "outputs": [
    {
     "name": "stdout",
     "output_type": "stream",
     "text": [
      "Principal amount is: 100000.0\n",
      "Rate of interest is: 5.0 %\n",
      "Time in years is: 7.0\n",
      "The simple interest is: 35000.0\n"
     ]
    }
   ],
   "source": [
    "p = float(input(\"Enter the principal amount:\"))\n",
    "print(\"Principal amount is:\", p)\n",
    "r = float(input(\"Enter the rate of interest:\"))\n",
    "print(\"Rate of interest is:\", r,\"%\")\n",
    "t = float(input(\"Enter the time in years:\"))\n",
    "print(\"Time in years is:\", t)\n",
    "\n",
    "\n",
    "simple_intrest = (p*r*t)/100\n",
    "print(\"The simple interest is:\", simple_intrest)"
   ]
  },
  {
   "cell_type": "markdown",
   "id": "63c185b5",
   "metadata": {},
   "source": [
    "### Q2: Swap Two Numbers\n",
    "Swap two numbers using:\n",
    "\n",
    "i. Third variable <br>\n",
    "ii. Without using a third variable"
   ]
  },
  {
   "cell_type": "code",
   "execution_count": 5,
   "id": "68725c55",
   "metadata": {},
   "outputs": [
    {
     "name": "stdout",
     "output_type": "stream",
     "text": [
      "a is now: 70\n",
      "b is now: 10\n"
     ]
    }
   ],
   "source": [
    "# with third variable \n",
    "\n",
    "a = 10\n",
    "b =70\n",
    "c = a\n",
    "a = b\n",
    "print(\"a is now:\", a)\n",
    "b = c\n",
    "print(\"b is now:\", b)\n"
   ]
  },
  {
   "cell_type": "code",
   "execution_count": null,
   "id": "173e0e18",
   "metadata": {},
   "outputs": [
    {
     "name": "stdout",
     "output_type": "stream",
     "text": [
      "a is now: 70\n",
      "b is now: 10\n"
     ]
    }
   ],
   "source": [
    "# without third variable\n",
    "a = 10\n",
    "b = 70 \n",
    "a = a + b\n",
    "b = a - b\n",
    "a = a - b\n",
    "print(\"a is now:\", a)\n",
    "print(\"b is now:\", b)\n",
    "\n",
    "# logical explanation\n",
    "# a = 10, b = 70\n",
    "# a = a + b => a = 10 + 70 => a = 80\n",
    "# b = a - b => b = 80 - 70 => b = 10\n"
   ]
  },
  {
   "cell_type": "code",
   "execution_count": 7,
   "id": "6c0510f7",
   "metadata": {},
   "outputs": [
    {
     "name": "stdout",
     "output_type": "stream",
     "text": [
      "a is now: 70\n",
      "b is now: 10\n"
     ]
    }
   ],
   "source": [
    "# swapping two numbers using bitwise XOR\n",
    "a = 10\n",
    "b = 70\n",
    "a = a ^ b\n",
    "b = a ^ b\n",
    "a = a ^ b\n",
    "print(\"a is now:\", a)\n",
    "print(\"b is now:\", b)\n",
    "# logical explanation\n",
    "# a = 10, b = 70\n",
    "# a = a ^ b => a = 10 ^ 70 => a = 64\n",
    "# b = a ^ b => b = 64 ^ 70 => b = 10\n",
    "# a = 64 ^ 10 => a = 70"
   ]
  }
 ],
 "metadata": {
  "kernelspec": {
   "display_name": "base",
   "language": "python",
   "name": "python3"
  },
  "language_info": {
   "codemirror_mode": {
    "name": "ipython",
    "version": 3
   },
   "file_extension": ".py",
   "mimetype": "text/x-python",
   "name": "python",
   "nbconvert_exporter": "python",
   "pygments_lexer": "ipython3",
   "version": "3.12.7"
  }
 },
 "nbformat": 4,
 "nbformat_minor": 5
}
