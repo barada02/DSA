{
 "cells": [
  {
   "cell_type": "markdown",
   "id": "419397e1",
   "metadata": {},
   "source": [
    "# Pyhon Brush up "
   ]
  },
  {
   "cell_type": "markdown",
   "id": "a7c08b9b",
   "metadata": {},
   "source": [
    "### Q1: Write a program to calculate simple interest using the formula:\n",
    "\n",
    "$$\n",
    "Simple Interest = (Principal * Rate * Time) / 100\n",
    "$$"
   ]
  },
  {
   "cell_type": "code",
   "execution_count": 4,
   "id": "0ebc95ef",
   "metadata": {},
   "outputs": [
    {
     "name": "stdout",
     "output_type": "stream",
     "text": [
      "Principal amount is: 100000.0\n",
      "Rate of interest is: 5.0 %\n",
      "Time in years is: 7.0\n",
      "The simple interest is: 35000.0\n"
     ]
    }
   ],
   "source": [
    "p = float(input(\"Enter the principal amount:\"))\n",
    "print(\"Principal amount is:\", p)\n",
    "r = float(input(\"Enter the rate of interest:\"))\n",
    "print(\"Rate of interest is:\", r,\"%\")\n",
    "t = float(input(\"Enter the time in years:\"))\n",
    "print(\"Time in years is:\", t)\n",
    "\n",
    "\n",
    "simple_intrest = (p*r*t)/100\n",
    "print(\"The simple interest is:\", simple_intrest)"
   ]
  },
  {
   "cell_type": "markdown",
   "id": "63c185b5",
   "metadata": {},
   "source": [
    "### Q2: Swap Two Numbers\n",
    "Swap two numbers using:\n",
    "\n",
    "i. Third variable <br>\n",
    "ii. Without using a third variable"
   ]
  },
  {
   "cell_type": "code",
   "execution_count": 5,
   "id": "68725c55",
   "metadata": {},
   "outputs": [
    {
     "name": "stdout",
     "output_type": "stream",
     "text": [
      "a is now: 70\n",
      "b is now: 10\n"
     ]
    }
   ],
   "source": [
    "# with third variable \n",
    "\n",
    "a = 10\n",
    "b =70\n",
    "c = a\n",
    "a = b\n",
    "print(\"a is now:\", a)\n",
    "b = c\n",
    "print(\"b is now:\", b)\n"
   ]
  },
  {
   "cell_type": "code",
   "execution_count": null,
   "id": "173e0e18",
   "metadata": {},
   "outputs": [
    {
     "name": "stdout",
     "output_type": "stream",
     "text": [
      "a is now: 70\n",
      "b is now: 10\n"
     ]
    }
   ],
   "source": [
    "# without third variable\n",
    "a = 10\n",
    "b = 70 \n",
    "a = a + b\n",
    "b = a - b\n",
    "a = a - b\n",
    "print(\"a is now:\", a)\n",
    "print(\"b is now:\", b)\n",
    "\n",
    "# logical explanation\n",
    "# a = 10, b = 70\n",
    "# a = a + b => a = 10 + 70 => a = 80\n",
    "# b = a - b => b = 80 - 70 => b = 10\n"
   ]
  },
  {
   "cell_type": "code",
   "execution_count": 7,
   "id": "6c0510f7",
   "metadata": {},
   "outputs": [
    {
     "name": "stdout",
     "output_type": "stream",
     "text": [
      "a is now: 70\n",
      "b is now: 10\n"
     ]
    }
   ],
   "source": [
    "# swapping two numbers using bitwise XOR\n",
    "a = 10\n",
    "b = 70\n",
    "a = a ^ b\n",
    "b = a ^ b\n",
    "a = a ^ b\n",
    "print(\"a is now:\", a)\n",
    "print(\"b is now:\", b)\n",
    "# logical explanation\n",
    "# a = 10, b = 70\n",
    "# a = a ^ b => a = 10 ^ 70 => a = 64\n",
    "# b = a ^ b => b = 64 ^ 70 => b = 10\n",
    "# a = 64 ^ 10 => a = 70"
   ]
  },
  {
   "cell_type": "markdown",
   "id": "32a6a5d4",
   "metadata": {},
   "source": [
    "### Q3:Even or Odd\n",
    "Take input from the user and check if it's even or odd."
   ]
  },
  {
   "cell_type": "code",
   "execution_count": 8,
   "id": "e53a8134",
   "metadata": {},
   "outputs": [
    {
     "name": "stdout",
     "output_type": "stream",
     "text": [
      "50 is an even number\n"
     ]
    }
   ],
   "source": [
    "n = int(input (\"Enter a number: \"))\n",
    "if n % 2 == 0:\n",
    "    print(n, \"is an even number\")\n",
    "else:\n",
    "    print(n, \"is an odd number\")\n",
    "    "
   ]
  },
  {
   "cell_type": "markdown",
   "id": "d638a0af",
   "metadata": {},
   "source": [
    "##  Section 2: Control Flow (if, for, while)"
   ]
  },
  {
   "cell_type": "markdown",
   "id": "27b03b71",
   "metadata": {},
   "source": [
    "### Q4 : Largest of Three Numbers\n",
    "Find the largest among three numbers entered by the user."
   ]
  },
  {
   "cell_type": "code",
   "execution_count": 10,
   "id": "c2192dc5",
   "metadata": {},
   "outputs": [
    {
     "name": "stdout",
     "output_type": "stream",
     "text": [
      "First number is: 50\n",
      "Second number is: 79\n",
      "Third number is: 36\n",
      "79 is the largest number\n"
     ]
    }
   ],
   "source": [
    "# largest of three numbers\n",
    "a = int(input(\"Enter first number: \"))\n",
    "print(\"First number is:\", a)\n",
    "b = int(input(\"Enter second number: \"))\n",
    "print(\"Second number is:\", b)\n",
    "c = int(input(\"Enter third number: \"))\n",
    "print(\"Third number is:\", c)\n",
    "if a >= b and a >= c:\n",
    "    print(a, \"is the largest number\")\n",
    "elif b >= a and b >= c:\n",
    "    print(b, \"is the largest number\")\n",
    "else:\n",
    "    print(c, \"is the largest number\")"
   ]
  },
  {
   "cell_type": "markdown",
   "id": "30dd56d1",
   "metadata": {},
   "source": [
    "### Q5:Print Multiplication Table\n",
    "Print the multiplication table of any number up to 10."
   ]
  },
  {
   "cell_type": "code",
   "execution_count": 11,
   "id": "9fe11939",
   "metadata": {},
   "outputs": [
    {
     "name": "stdout",
     "output_type": "stream",
     "text": [
      "5 X 1 = 5\n",
      "5 X 2 = 10\n",
      "5 X 3 = 15\n",
      "5 X 4 = 20\n",
      "5 X 5 = 25\n",
      "5 X 6 = 30\n",
      "5 X 7 = 35\n",
      "5 X 8 = 40\n",
      "5 X 9 = 45\n",
      "5 X 10 = 50\n"
     ]
    }
   ],
   "source": [
    "# using for loop\n",
    "a = int (input(\"Enter a number:\"))\n",
    "\n",
    "for i in range(1,11):\n",
    "    print(a, \"X\",i,\"=\",a*i)"
   ]
  },
  {
   "cell_type": "code",
   "execution_count": 12,
   "id": "3b840c4a",
   "metadata": {},
   "outputs": [
    {
     "name": "stdout",
     "output_type": "stream",
     "text": [
      "21 X 1 = 21\n",
      "21 X 2 = 42\n",
      "21 X 3 = 63\n",
      "21 X 4 = 84\n",
      "21 X 5 = 105\n",
      "21 X 6 = 126\n",
      "21 X 7 = 147\n",
      "21 X 8 = 168\n",
      "21 X 9 = 189\n",
      "21 X 10 = 210\n"
     ]
    }
   ],
   "source": [
    "# using While loop\n",
    "a = int(input(\"Enter a number: \"))\n",
    "i = 1\n",
    "while i <= 10:\n",
    "    print(a, \"X\", i, \"=\", a * i)\n",
    "    i += 1"
   ]
  },
  {
   "cell_type": "markdown",
   "id": "b53e220e",
   "metadata": {},
   "source": [
    "### Q6: Reverse a Number\n",
    "Reverse a number using loops."
   ]
  },
  {
   "cell_type": "code",
   "execution_count": 16,
   "id": "ac2aa217",
   "metadata": {},
   "outputs": [
    {
     "name": "stdout",
     "output_type": "stream",
     "text": [
      "Number to reverse is: 4569874556\n",
      "Reversed number is: 6554789654\n",
      "\n",
      "Explaining the code:\n",
      "1. We take a number as input from the user.\n",
      "2. We initialize a variable 'reversed_number' to 0.\n",
      "3. We use a while loop to reverse the number.\n",
      "4. In each iteration, we get the last digit of the number using modulus operator.\n",
      "5. We then multiply 'reversed_number' by 10 and add the last digit to it.\n",
      "6. We remove the last digit from the original number using integer division.\n",
      "7. The loop continues until the original number becomes 0.\n",
      "8. Finally, we print the reversed number.\n"
     ]
    }
   ],
   "source": [
    "number_to_reverse = int(input(\"Enter a number to reverse: \"))\n",
    "print(\"Number to reverse is:\", number_to_reverse)\n",
    "reversed_number = 0\n",
    "while number_to_reverse > 0:\n",
    "    digit = number_to_reverse % 10\n",
    "    reversed_number = reversed_number * 10 + digit\n",
    "    number_to_reverse //= 10\n",
    "print(\"Reversed number is:\", reversed_number)\n",
    "\n",
    "print(\"\")\n",
    "\n",
    "print(\"Explaining the code:\")\n",
    "print(\"1. We take a number as input from the user.\")\n",
    "print(\"2. We initialize a variable 'reversed_number' to 0.\")\n",
    "print(\"3. We use a while loop to reverse the number.\") \n",
    "print(\"4. In each iteration, we get the last digit of the number using modulus operator.\")\n",
    "print(\"5. We then multiply 'reversed_number' by 10 and add the last digit to it.\")\n",
    "print(\"6. We remove the last digit from the original number using integer division.\")\n",
    "print(\"7. The loop continues until the original number becomes 0.\")\n",
    "print(\"8. Finally, we print the reversed number.\")"
   ]
  },
  {
   "cell_type": "markdown",
   "id": "13c894e7",
   "metadata": {},
   "source": [
    "### Q7:Fibonacci Sequence\n",
    "Print the first N terms of the Fibonacci sequence."
   ]
  },
  {
   "cell_type": "code",
   "execution_count": 18,
   "id": "0fefbfdf",
   "metadata": {},
   "outputs": [
    {
     "name": "stdout",
     "output_type": "stream",
     "text": [
      "Fibonacci series up to 20 terms:\n",
      "0 1 1 2 3 5 8 13 21 34 55 89 144 233 377 610 987 1597 2584 4181 \n",
      "\n"
     ]
    }
   ],
   "source": [
    "# first N terms of Fibonacci series\n",
    "n = int(input(\"Enter the number of terms in Fibonacci series: \"))\n",
    "print(\"Fibonacci series up to\", n, \"terms:\")\n",
    "a, b = 0, 1\n",
    "for i in range(n):\n",
    "    print(a, end=' ')\n",
    "    a, b = b, a + b  # Update a and b for the next term\n",
    "print(\"\\n\")\n"
   ]
  },
  {
   "cell_type": "markdown",
   "id": "bb6a93ee",
   "metadata": {},
   "source": [
    "# 🔹 Section 3: Functions & Recursion\n"
   ]
  },
  {
   "cell_type": "markdown",
   "id": "e2bbdd63",
   "metadata": {},
   "source": [
    "### Q8: Factorial Using Function\n",
    "Write a function that returns the factorial of a number."
   ]
  },
  {
   "cell_type": "code",
   "execution_count": null,
   "id": "e18de2b6",
   "metadata": {},
   "outputs": [],
   "source": []
  }
 ],
 "metadata": {
  "kernelspec": {
   "display_name": "base",
   "language": "python",
   "name": "python3"
  },
  "language_info": {
   "codemirror_mode": {
    "name": "ipython",
    "version": 3
   },
   "file_extension": ".py",
   "mimetype": "text/x-python",
   "name": "python",
   "nbconvert_exporter": "python",
   "pygments_lexer": "ipython3",
   "version": "3.12.7"
  }
 },
 "nbformat": 4,
 "nbformat_minor": 5
}
