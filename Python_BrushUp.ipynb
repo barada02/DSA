{
 "cells": [
  {
   "cell_type": "markdown",
   "id": "419397e1",
   "metadata": {},
   "source": [
    "# Pyhon Brush up "
   ]
  },
  {
   "cell_type": "markdown",
   "id": "a7c08b9b",
   "metadata": {},
   "source": [
    "# Q1: \n",
    "### Write a program to calculate simple interest using the formula:\n",
    "\n",
    "$$\n",
    "Simple Interest = (Principal * Rate * Time) / 100\n",
    "$$"
   ]
  },
  {
   "cell_type": "code",
   "execution_count": null,
   "id": "0ebc95ef",
   "metadata": {},
   "outputs": [],
   "source": []
  }
 ],
 "metadata": {
  "kernelspec": {
   "display_name": "base",
   "language": "python",
   "name": "python3"
  },
  "language_info": {
   "name": "python",
   "version": "3.12.7"
  }
 },
 "nbformat": 4,
 "nbformat_minor": 5
}
