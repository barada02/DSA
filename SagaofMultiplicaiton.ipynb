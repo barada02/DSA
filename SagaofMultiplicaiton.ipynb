{
 "cells": [
  {
   "cell_type": "markdown",
   "id": "8b14b011",
   "metadata": {},
   "source": [
    "# Multiple way to generate Multiplication Table"
   ]
  },
  {
   "cell_type": "code",
   "execution_count": 2,
   "id": "1117a6b6",
   "metadata": {},
   "outputs": [
    {
     "name": "stdout",
     "output_type": "stream",
     "text": [
      "The number is 5\n"
     ]
    }
   ],
   "source": [
    "a = int(input(\"Enter a number: \"))\n",
    "print(\"The number is\", a)"
   ]
  },
  {
   "cell_type": "code",
   "execution_count": 3,
   "id": "90c1473a",
   "metadata": {},
   "outputs": [
    {
     "name": "stdout",
     "output_type": "stream",
     "text": [
      "5 X 1 = 5\n",
      "5 X 2 = 10\n",
      "5 X 3 = 15\n",
      "5 X 4 = 20\n",
      "5 X 5 = 25\n",
      "5 X 6 = 30\n",
      "5 X 7 = 35\n",
      "5 X 8 = 40\n",
      "5 X 9 = 45\n",
      "5 X 10 = 50\n"
     ]
    }
   ],
   "source": [
    "# using for loop\n",
    "for i in range(1, 11):\n",
    "    print(a, \"X\", i, \"=\", a * i)"
   ]
  },
  {
   "cell_type": "code",
   "execution_count": 4,
   "id": "306f8d96",
   "metadata": {},
   "outputs": [
    {
     "name": "stdout",
     "output_type": "stream",
     "text": [
      "5 X 1 = 5\n",
      "5 X 2 = 10\n",
      "5 X 3 = 15\n",
      "5 X 4 = 20\n",
      "5 X 5 = 25\n",
      "5 X 6 = 30\n",
      "5 X 7 = 35\n",
      "5 X 8 = 40\n",
      "5 X 9 = 45\n",
      "5 X 10 = 50\n"
     ]
    }
   ],
   "source": [
    "# using while loop\n",
    "i = 1\n",
    "while i <= 10:\n",
    "    print(a, \"X\", i, \"=\", a * i)\n",
    "    i += 1"
   ]
  },
  {
   "cell_type": "code",
   "execution_count": 5,
   "id": "71d819ef",
   "metadata": {},
   "outputs": [
    {
     "name": "stdout",
     "output_type": "stream",
     "text": [
      "Multiplication table of 5 is: [5, 10, 15, 20, 25, 30, 35, 40, 45, 50]\n"
     ]
    }
   ],
   "source": [
    "# using list comprehension\n",
    "table = [a * i for i in range(1, 11)]\n",
    "print(\"Multiplication table of\", a, \"is:\", table)"
   ]
  },
  {
   "cell_type": "code",
   "execution_count": 6,
   "id": "63d00aca",
   "metadata": {},
   "outputs": [
    {
     "name": "stdout",
     "output_type": "stream",
     "text": [
      "Multiplication table of 5 is: [5, 10, 15, 20, 25, 30, 35, 40, 45, 50]\n"
     ]
    }
   ],
   "source": [
    "# using map function\n",
    "table = list(map(lambda i: a * i, range(1, 11)))\n",
    "print(\"Multiplication table of\", a, \"is:\", table)"
   ]
  },
  {
   "cell_type": "code",
   "execution_count": 7,
   "id": "44b03aca",
   "metadata": {},
   "outputs": [
    {
     "name": "stdout",
     "output_type": "stream",
     "text": [
      "Multiplication table of 5 is: [5, 10, 15, 20, 25, 30, 35, 40, 45, 50, 55, 60, 65, 70, 75, 80, 85, 90, 95, 100]\n"
     ]
    }
   ],
   "source": [
    "# using filter function\n",
    "table = list(filter(lambda i: i % a == 0, range(1, 101)))\n",
    "print(\"Multiplication table of\", a, \"is:\", table)"
   ]
  },
  {
   "cell_type": "code",
   "execution_count": 8,
   "id": "dcc626d4",
   "metadata": {},
   "outputs": [
    {
     "name": "stdout",
     "output_type": "stream",
     "text": [
      "Multiplication table of 5 is: [5, 10, 15, 20, 25, 30, 35, 40, 45, 50]\n"
     ]
    }
   ],
   "source": [
    "# using reduce function\n",
    "from functools import reduce\n",
    "table = reduce(lambda x, y: x + [y * a], range(1, 11), [])\n",
    "print(\"Multiplication table of\", a, \"is:\", table)"
   ]
  },
  {
   "cell_type": "code",
   "execution_count": 9,
   "id": "d4c0d3ac",
   "metadata": {},
   "outputs": [
    {
     "name": "stdout",
     "output_type": "stream",
     "text": [
      "5 X 1 = 5\n",
      "5 X 2 = 10\n",
      "5 X 3 = 15\n",
      "5 X 4 = 20\n",
      "5 X 5 = 25\n",
      "5 X 6 = 30\n",
      "5 X 7 = 35\n",
      "5 X 8 = 40\n",
      "5 X 9 = 45\n",
      "5 X 10 = 50\n"
     ]
    }
   ],
   "source": [
    "# using recursion\n",
    "def multiplication_table(n, i=1):\n",
    "    if i > 10:\n",
    "        return\n",
    "    print(n, \"X\", i, \"=\", n * i)\n",
    "    multiplication_table(n, i + 1)\n",
    "multiplication_table(a)"
   ]
  },
  {
   "cell_type": "code",
   "execution_count": 11,
   "id": "a473bd35",
   "metadata": {},
   "outputs": [
    {
     "name": "stdout",
     "output_type": "stream",
     "text": [
      "Multiplication table of 5 is:\n",
      "5\n",
      "10\n",
      "15\n",
      "20\n",
      "25\n",
      "30\n",
      "35\n",
      "40\n",
      "45\n",
      "50\n"
     ]
    }
   ],
   "source": [
    "# using generator\n",
    "def multiplication_table_gen(n):\n",
    "    for i in range(1, 11):\n",
    "        yield n * i\n",
    "table_gen = multiplication_table_gen(a)\n",
    "print(\"Multiplication table of\", a, \"is:\")\n",
    "for value in table_gen:\n",
    "    print(value)"
   ]
  },
  {
   "cell_type": "code",
   "execution_count": 12,
   "id": "58df5149",
   "metadata": {},
   "outputs": [
    {
     "name": "stdout",
     "output_type": "stream",
     "text": [
      "Multiplication table of 5 is: [5, 10, 15, 20, 25, 30, 35, 40, 45, 50]\n"
     ]
    }
   ],
   "source": [
    "# using numpy\n",
    "import numpy as np\n",
    "table_np = np.arange(1, 11) * a\n",
    "print(\"Multiplication table of\", a, \"is:\", table_np.tolist())"
   ]
  },
  {
   "cell_type": "code",
   "execution_count": 13,
   "id": "65a45c1f",
   "metadata": {},
   "outputs": [
    {
     "name": "stdout",
     "output_type": "stream",
     "text": [
      "Multiplication table of 5 is:\n",
      "[5, 10, 15, 20, 25, 30, 35, 40, 45, 50]\n"
     ]
    }
   ],
   "source": [
    "# using pandas\n",
    "import pandas as pd\n",
    "table_pd = pd.Series(np.arange(1, 11) * a)\n",
    "print(\"Multiplication table of\", a, \"is:\")\n",
    "print(table_pd.tolist())"
   ]
  },
  {
   "cell_type": "code",
   "execution_count": 14,
   "id": "844c8747",
   "metadata": {},
   "outputs": [
    {
     "data": {
      "image/png": "[encoded data removed]",
      "text/plain": [
       "<Figure size 640x480 with 1 Axes>"
      ]
     },
     "metadata": {},
     "output_type": "display_data"
    }
   ],
   "source": [
    "# using matplotlib\n",
    "import matplotlib.pyplot as plt\n",
    "table_mt = [a * i for i in range(1, 11)]\n",
    "\n",
    "plt.plot(range(1, 11), table_mt, marker='o')\n",
    "plt.title(f'Multiplication Table of {a}')\n",
    "plt.xlabel('Multiplier')\n",
    "plt.ylabel('Result')\n",
    "plt.xticks(range(1, 11))\n",
    "plt.yticks(table_mt)\n",
    "plt.grid()\n",
    "plt.show()"
   ]
  }
 ],
 "metadata": {
  "kernelspec": {
   "display_name": "base",
   "language": "python",
   "name": "python3"
  },
  "language_info": {
   "codemirror_mode": {
    "name": "ipython",
    "version": 3
   },
   "file_extension": ".py",
   "mimetype": "text/x-python",
   "name": "python",
   "nbconvert_exporter": "python",
   "pygments_lexer": "ipython3",
   "version": "3.12.7"
  }
 },
 "nbformat": 4,
 "nbformat_minor": 5
}
